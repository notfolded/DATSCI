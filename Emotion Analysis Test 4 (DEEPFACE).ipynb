{
 "cells": [
  {
   "cell_type": "code",
   "execution_count": 1,
   "metadata": {},
   "outputs": [
    {
     "name": "stdout",
     "output_type": "stream",
     "text": [
      "WARNING:tensorflow:From c:\\Users\\chris\\AppData\\Local\\anaconda3\\Lib\\site-packages\\keras\\src\\losses.py:2976: The name tf.losses.sparse_softmax_cross_entropy is deprecated. Please use tf.compat.v1.losses.sparse_softmax_cross_entropy instead.\n",
      "\n"
     ]
    }
   ],
   "source": [
    "import cv2\n",
    "from deepface import DeepFace"
   ]
  },
  {
   "cell_type": "markdown",
   "metadata": {},
   "source": [
    "importing the facial detection script -- Haarscascade"
   ]
  },
  {
   "cell_type": "code",
   "execution_count": 2,
   "metadata": {},
   "outputs": [
    {
     "data": {
      "text/plain": [
       "True"
      ]
     },
     "execution_count": 2,
     "metadata": {},
     "output_type": "execute_result"
    }
   ],
   "source": [
    "face_classifier = cv2.CascadeClassifier()\n",
    "face_classifier.load(cv2.samples.findFile(\"haarcascade_frontalface_default.xml\"))"
   ]
  },
  {
   "cell_type": "markdown",
   "metadata": {},
   "source": [
    "Implementing the Emotion Analysis DeepFace model using openCV\n"
   ]
  },
  {
   "cell_type": "code",
   "execution_count": 4,
   "metadata": {},
   "outputs": [
    {
     "name": "stderr",
     "output_type": "stream",
     "text": [
      "Action: emotion: 100%|██████████| 1/1 [00:00<00:00,  5.35it/s]\n",
      "Action: emotion: 100%|██████████| 1/1 [00:00<00:00,  2.59it/s]\n",
      "Action: emotion: 100%|██████████| 1/1 [00:00<00:00,  4.03it/s]\n",
      "Action: emotion: 100%|██████████| 1/1 [00:00<00:00,  6.12it/s]\n",
      "Action: emotion: 100%|██████████| 1/1 [00:00<00:00,  4.73it/s]\n",
      "Action: emotion: 100%|██████████| 1/1 [00:00<00:00,  4.66it/s]\n",
      "Action: emotion: 100%|██████████| 1/1 [00:00<00:00,  5.48it/s]\n",
      "Action: emotion: 100%|██████████| 1/1 [00:00<00:00,  5.88it/s]\n",
      "Action: emotion: 100%|██████████| 1/1 [00:00<00:00,  4.80it/s]\n",
      "Action: emotion: 100%|██████████| 1/1 [00:00<00:00,  6.69it/s]\n",
      "Action: emotion: 100%|██████████| 1/1 [00:00<00:00,  6.09it/s]\n",
      "Action: emotion: 100%|██████████| 1/1 [00:00<00:00,  6.18it/s]\n",
      "Action: emotion: 100%|██████████| 1/1 [00:00<00:00,  5.83it/s]\n",
      "Action: emotion: 100%|██████████| 1/1 [00:00<00:00,  6.27it/s]\n",
      "Action: emotion: 100%|██████████| 1/1 [00:00<00:00,  6.37it/s]\n",
      "Action: emotion: 100%|██████████| 1/1 [00:00<00:00,  5.82it/s]\n",
      "Action: emotion: 100%|██████████| 1/1 [00:00<00:00,  5.56it/s]\n",
      "Action: emotion: 100%|██████████| 1/1 [00:00<00:00,  6.01it/s]\n",
      "Action: emotion: 100%|██████████| 1/1 [00:00<00:00,  4.69it/s]\n",
      "Action: emotion: 100%|██████████| 1/1 [00:00<00:00,  6.40it/s]\n",
      "Action: emotion: 100%|██████████| 1/1 [00:00<00:00,  4.01it/s]\n",
      "Action: emotion: 100%|██████████| 1/1 [00:00<00:00,  4.28it/s]\n",
      "Action: emotion: 100%|██████████| 1/1 [00:00<00:00,  6.97it/s]\n",
      "Action: emotion: 100%|██████████| 1/1 [00:00<00:00,  5.63it/s]\n",
      "Action: emotion: 100%|██████████| 1/1 [00:00<00:00,  6.17it/s]\n",
      "Action: emotion: 100%|██████████| 1/1 [00:00<00:00,  6.14it/s]\n",
      "Action: emotion: 100%|██████████| 1/1 [00:00<00:00,  4.90it/s]\n",
      "Action: emotion: 100%|██████████| 1/1 [00:00<00:00,  4.09it/s]\n",
      "Action: emotion: 100%|██████████| 1/1 [00:00<00:00,  3.39it/s]\n",
      "Action: emotion: 100%|██████████| 1/1 [00:00<00:00,  3.43it/s]\n",
      "Action: emotion: 100%|██████████| 1/1 [00:00<00:00,  4.35it/s]\n",
      "Action: emotion: 100%|██████████| 1/1 [00:00<00:00,  4.80it/s]\n",
      "Action: emotion: 100%|██████████| 1/1 [00:00<00:00,  4.76it/s]\n",
      "Action: emotion: 100%|██████████| 1/1 [00:00<00:00,  4.71it/s]\n",
      "Action: emotion: 100%|██████████| 1/1 [00:00<00:00,  4.22it/s]\n",
      "Action: emotion: 100%|██████████| 1/1 [00:00<00:00,  4.67it/s]\n",
      "Action: emotion: 100%|██████████| 1/1 [00:00<00:00,  2.97it/s]\n",
      "Action: emotion: 100%|██████████| 1/1 [00:00<00:00,  4.24it/s]\n",
      "Action: emotion: 100%|██████████| 1/1 [00:00<00:00,  5.82it/s]\n",
      "Action: emotion: 100%|██████████| 1/1 [00:00<00:00,  4.64it/s]\n",
      "Action: emotion: 100%|██████████| 1/1 [00:00<00:00,  5.34it/s]\n",
      "Action: emotion: 100%|██████████| 1/1 [00:00<00:00,  3.62it/s]\n",
      "Action: emotion: 100%|██████████| 1/1 [00:00<00:00,  4.33it/s]\n",
      "Action: emotion: 100%|██████████| 1/1 [00:00<00:00,  3.85it/s]\n",
      "Action: emotion: 100%|██████████| 1/1 [00:00<00:00,  3.98it/s]\n",
      "Action: emotion: 100%|██████████| 1/1 [00:00<00:00,  4.19it/s]\n",
      "Action: emotion: 100%|██████████| 1/1 [00:00<00:00,  4.44it/s]\n",
      "Action: emotion: 100%|██████████| 1/1 [00:00<00:00,  4.51it/s]\n",
      "Action: emotion: 100%|██████████| 1/1 [00:00<00:00,  4.03it/s]\n",
      "Action: emotion: 100%|██████████| 1/1 [00:00<00:00,  4.87it/s]\n",
      "Action: emotion: 100%|██████████| 1/1 [00:00<00:00,  3.50it/s]\n",
      "Action: emotion: 100%|██████████| 1/1 [00:00<00:00,  3.74it/s]\n",
      "Action: emotion: 100%|██████████| 1/1 [00:00<00:00,  4.17it/s]\n",
      "Action: emotion: 100%|██████████| 1/1 [00:00<00:00,  4.58it/s]\n",
      "Action: emotion: 100%|██████████| 1/1 [00:00<00:00,  4.65it/s]\n",
      "Action: emotion: 100%|██████████| 1/1 [00:00<00:00,  4.35it/s]\n",
      "Action: emotion: 100%|██████████| 1/1 [00:00<00:00,  5.31it/s]\n",
      "Action: emotion: 100%|██████████| 1/1 [00:00<00:00,  4.38it/s]\n",
      "Action: emotion: 100%|██████████| 1/1 [00:00<00:00,  4.98it/s]\n"
     ]
    }
   ],
   "source": [
    "capture=cv2.VideoCapture(0)\n",
    "\n",
    "while True:\n",
    "    ret, frame = capture.read()\n",
    "    frame_gray = cv2.cvtColor(frame, cv2.COLOR_BGR2GRAY)\n",
    "    faces = face_classifier.detectMultiScale(frame_gray)\n",
    "\n",
    "    emotion_response = DeepFace.analyze(frame, actions=(\"emotion\",), enforce_detection=False)\n",
    "\n",
    "    for face in faces:\n",
    "        x,y,w,h = face \n",
    "        cv2.putText(frame, text=emotion_response[0][\"dominant_emotion\"], org=(x,y), fontFace=cv2.FONT_HERSHEY_COMPLEX_SMALL, fontScale= 2, color=(255,255,255), thickness=2)\n",
    "        new_frame = cv2.rectangle(frame, (x,y), (x+w,y+h), color=(0,255,255), thickness=4)\n",
    "    cv2.imshow(\"Emotion Analysis Test 4\", new_frame)\n",
    "    if(cv2.waitKey(30) & 0xFF == ord('q')):\n",
    "        break\n",
    "\n",
    "capture.release()\n",
    "cv2.destroyAllWindows()"
   ]
  }
 ],
 "metadata": {
  "kernelspec": {
   "display_name": "base",
   "language": "python",
   "name": "python3"
  },
  "language_info": {
   "codemirror_mode": {
    "name": "ipython",
    "version": 3
   },
   "file_extension": ".py",
   "mimetype": "text/x-python",
   "name": "python",
   "nbconvert_exporter": "python",
   "pygments_lexer": "ipython3",
   "version": "3.11.4"
  }
 },
 "nbformat": 4,
 "nbformat_minor": 2
}
